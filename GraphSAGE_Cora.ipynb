{
  "nbformat": 4,
  "nbformat_minor": 0,
  "metadata": {
    "colab": {
      "name": "GraphSAGE_Cora.ipynb",
      "provenance": []
    },
    "kernelspec": {
      "name": "python3",
      "display_name": "Python 3"
    },
    "language_info": {
      "name": "python"
    }
  },
  "cells": [
    {
      "cell_type": "code",
      "execution_count": null,
      "metadata": {
        "colab": {
          "base_uri": "https://localhost:8080/"
        },
        "id": "r7hsmB1DEW9h",
        "outputId": "f72d21a3-5467-48af-c0b9-225986a38479"
      },
      "outputs": [
        {
          "output_type": "stream",
          "name": "stdout",
          "text": [
            "  Building wheel for torch-scatter (setup.py) ... \u001b[?25l\u001b[?25hdone\n",
            "\u001b[K     |████████████████████████████████| 48 kB 3.8 MB/s \n",
            "\u001b[?25h  Building wheel for torch-sparse (setup.py) ... \u001b[?25l\u001b[?25hdone\n",
            "\u001b[K     |████████████████████████████████| 407 kB 14.1 MB/s \n",
            "\u001b[?25h  Building wheel for torch-geometric (setup.py) ... \u001b[?25l\u001b[?25hdone\n"
          ]
        }
      ],
      "source": [
        "try:\n",
        "    # Check if PyTorch Geometric is installed:\n",
        "    import torch_geometric\n",
        "except ImportError:\n",
        "    # If PyTorch Geometric is not installed, install it.\n",
        "    %pip install -q torch-scatter -f https://pytorch-geometric.com/whl/torch-1.7.0+cu101.html\n",
        "    %pip install -q torch-sparse -f https://pytorch-geometric.com/whl/torch-1.7.0+cu101.html\n",
        "    %pip install -q torch-geometric"
      ]
    },
    {
      "cell_type": "code",
      "source": [
        "from typing import Callable, List, Optional, Tuple\n",
        "\n",
        "import matplotlib.pyplot as plt\n",
        "import numpy as np\n",
        "import torch\n",
        "import torch.nn.functional as F\n",
        "import torch_geometric.transforms as T\n",
        "from torch import Tensor\n",
        "from torch.optim import Optimizer\n",
        "from torch_geometric.data import Data\n",
        "from torch_geometric.datasets import Planetoid\n",
        "from torch_geometric.nn import GCNConv\n",
        "from torch_geometric.utils import accuracy\n",
        "from typing_extensions import Literal, TypedDict"
      ],
      "metadata": {
        "id": "149gsTUbEZi3"
      },
      "execution_count": null,
      "outputs": []
    },
    {
      "cell_type": "code",
      "source": [
        "dataset = Planetoid(\"/tmp/Cora\", name=\"Cora\")\n",
        "num_nodes = dataset.data.num_nodes\n",
        "# For num. edges see:\n",
        "# - https://github.com/pyg-team/pytorch_geometric/issues/343\n",
        "# - https://github.com/pyg-team/pytorch_geometric/issues/852\n",
        "num_edges = dataset.data.num_edges // 2\n",
        "train_len = dataset[0].train_mask.sum()\n",
        "val_len = dataset[0].val_mask.sum()\n",
        "test_len = dataset[0].test_mask.sum()\n",
        "other_len = num_nodes - train_len - val_len - test_len\n",
        "print(f\"Dataset: {dataset.name}\")\n",
        "print(f\"Num. nodes: {num_nodes} (train={train_len}, val={val_len}, test={test_len}, other={other_len})\")\n",
        "print(f\"Num. edges: {num_edges}\")\n",
        "print(f\"Num. node features: {dataset.num_node_features}\")\n",
        "print(f\"Num. classes: {dataset.num_classes}\")\n",
        "print(f\"Dataset len.: {dataset.len()}\")"
      ],
      "metadata": {
        "colab": {
          "base_uri": "https://localhost:8080/"
        },
        "id": "3tnyqo_fE8I5",
        "outputId": "38e713f0-360b-4519-9ee7-3111f830a7c8"
      },
      "execution_count": null,
      "outputs": [
        {
          "output_type": "stream",
          "name": "stderr",
          "text": [
            "Downloading https://github.com/kimiyoung/planetoid/raw/master/data/ind.cora.x\n",
            "Downloading https://github.com/kimiyoung/planetoid/raw/master/data/ind.cora.tx\n",
            "Downloading https://github.com/kimiyoung/planetoid/raw/master/data/ind.cora.allx\n",
            "Downloading https://github.com/kimiyoung/planetoid/raw/master/data/ind.cora.y\n",
            "Downloading https://github.com/kimiyoung/planetoid/raw/master/data/ind.cora.ty\n",
            "Downloading https://github.com/kimiyoung/planetoid/raw/master/data/ind.cora.ally\n",
            "Downloading https://github.com/kimiyoung/planetoid/raw/master/data/ind.cora.graph\n",
            "Downloading https://github.com/kimiyoung/planetoid/raw/master/data/ind.cora.test.index\n"
          ]
        },
        {
          "output_type": "stream",
          "name": "stdout",
          "text": [
            "Dataset: Cora\n",
            "Num. nodes: 2708 (train=140, val=500, test=1000, other=1068)\n",
            "Num. edges: 5278\n",
            "Num. node features: 1433\n",
            "Num. classes: 7\n",
            "Dataset len.: 1\n"
          ]
        },
        {
          "output_type": "stream",
          "name": "stderr",
          "text": [
            "Processing...\n",
            "Done!\n"
          ]
        }
      ]
    },
    {
      "cell_type": "code",
      "source": [
        "dataset = Planetoid(\"/tmp/Cora\", name=\"Cora\")\n",
        "print(f\"Sum of row values without normalization: {dataset[0].x.sum(dim=-1)}\")\n",
        "\n",
        "dataset = Planetoid(\"/tmp/Cora\", name=\"Cora\", transform=T.NormalizeFeatures())\n",
        "print(f\"Sum of row values with normalization: {dataset[0].x.sum(dim=-1)}\")"
      ],
      "metadata": {
        "colab": {
          "base_uri": "https://localhost:8080/"
        },
        "id": "AACVTSLtFC0y",
        "outputId": "0e4b152a-7e9d-48cb-a575-dee7030c6ba6"
      },
      "execution_count": null,
      "outputs": [
        {
          "output_type": "stream",
          "name": "stdout",
          "text": [
            "Sum of row values without normalization: tensor([ 9., 23., 19.,  ..., 18., 14., 13.])\n",
            "Sum of row values with normalization: tensor([1.0000, 1.0000, 1.0000,  ..., 1.0000, 1.0000, 1.0000])\n"
          ]
        }
      ]
    },
    {
      "cell_type": "code",
      "source": [
        "class GCN(torch.nn.Module):\n",
        "    def __init__(\n",
        "        self,\n",
        "        num_node_features: int,\n",
        "        num_classes: int,\n",
        "        hidden_dim: int = 16,\n",
        "        dropout_rate: float = 0.5,\n",
        "    ) -> None:\n",
        "        super().__init__()\n",
        "        self.dropout1 = torch.nn.Dropout(dropout_rate)\n",
        "        self.conv1 = GCNConv(num_node_features, hidden_dim)\n",
        "        self.relu = torch.nn.ReLU(inplace=True)\n",
        "        self.dropout2 = torch.nn.Dropout(dropout_rate)\n",
        "        self.conv2 = GCNConv(hidden_dim, num_classes)\n",
        "\n",
        "    def forward(self, x: Tensor, edge_index: Tensor) -> torch.Tensor:\n",
        "        x = self.dropout1(x)\n",
        "        x = self.conv1(x, edge_index)\n",
        "        x = self.relu(x)\n",
        "        x = self.dropout2(x)\n",
        "        x = self.conv2(x, edge_index)\n",
        "        return x\n",
        "print(\"Graph Convolutional Network (GCN):\")\n",
        "GCN(dataset.num_node_features, dataset.num_classes)"
      ],
      "metadata": {
        "colab": {
          "base_uri": "https://localhost:8080/"
        },
        "id": "U7touriyFNpC",
        "outputId": "de5cc7fe-2e31-452b-8998-5d0068e06bd3"
      },
      "execution_count": null,
      "outputs": [
        {
          "output_type": "stream",
          "name": "stdout",
          "text": [
            "Graph Convolutional Network (GCN):\n"
          ]
        },
        {
          "output_type": "execute_result",
          "data": {
            "text/plain": [
              "GCN(\n",
              "  (dropout1): Dropout(p=0.5, inplace=False)\n",
              "  (conv1): GCNConv(1433, 16)\n",
              "  (relu): ReLU(inplace=True)\n",
              "  (dropout2): Dropout(p=0.5, inplace=False)\n",
              "  (conv2): GCNConv(16, 7)\n",
              ")"
            ]
          },
          "metadata": {},
          "execution_count": 5
        }
      ]
    },
    {
      "cell_type": "code",
      "source": [
        "LossFn = Callable[[Tensor, Tensor], Tensor]\n",
        "Stage = Literal[\"train\", \"val\", \"test\"]\n",
        "\n",
        "def train_step(\n",
        "    model: torch.nn.Module, data: Data, optimizer: torch.optim.Optimizer, loss_fn: LossFn\n",
        ") -> Tuple[float, float]:\n",
        "    model.train()\n",
        "    optimizer.zero_grad()\n",
        "    mask = data.train_mask\n",
        "    logits = model(data.x, data.edge_index)[mask]\n",
        "    preds = logits.argmax(dim=1)\n",
        "    y = data.y[mask]\n",
        "    loss = loss_fn(logits, y)\n",
        "    # + L2 regularization to the first layer only\n",
        "    # for name, params in model.state_dict().items():\n",
        "    #     if name.startswith(\"conv1\"):\n",
        "    #         loss += 5e-4 * params.square().sum() / 2.0\n",
        "\n",
        "    acc = accuracy(preds, y)\n",
        "    loss.backward()\n",
        "    optimizer.step()\n",
        "    return loss.item(), acc\n",
        "\n",
        "@torch.no_grad()\n",
        "def eval_step(model: torch.nn.Module, data: Data, loss_fn: LossFn, stage: Stage) -> Tuple[float, float]:\n",
        "    model.eval()\n",
        "    mask = getattr(data, f\"{stage}_mask\")\n",
        "    logits = model(data.x, data.edge_index)[mask]\n",
        "    preds = logits.argmax(dim=1)\n",
        "    y = data.y[mask]\n",
        "    loss = loss_fn(logits, y)\n",
        "    # + L2 regularization to the first layer only\n",
        "    # for name, params in model.state_dict().items():\n",
        "    #     if name.startswith(\"conv1\"):\n",
        "    #         loss += 5e-4 * params.square().sum() / 2.0\n",
        "\n",
        "    acc = accuracy(preds, y)\n",
        "    return loss.item(), acc"
      ],
      "metadata": {
        "id": "eMMWtM80FSPb"
      },
      "execution_count": null,
      "outputs": []
    },
    {
      "cell_type": "code",
      "source": [
        "class HistoryDict(TypedDict):\n",
        "    loss: List[float]\n",
        "    acc: List[float]\n",
        "    val_loss: List[float]\n",
        "    val_acc: List[float]\n",
        "\n",
        "def train(\n",
        "    model: torch.nn.Module,\n",
        "    data: Data,\n",
        "    optimizer: torch.optim.Optimizer,\n",
        "    loss_fn: LossFn = torch.nn.CrossEntropyLoss(),\n",
        "    max_epochs: int = 200,\n",
        "    early_stopping: int = 10,\n",
        "    print_interval: int = 20,\n",
        "    verbose: bool = True,\n",
        ") -> HistoryDict:\n",
        "    history = {\"loss\": [], \"val_loss\": [], \"acc\": [], \"val_acc\": []}\n",
        "    for epoch in range(max_epochs):\n",
        "        loss, acc = train_step(model, data, optimizer, loss_fn)\n",
        "        val_loss, val_acc = eval_step(model, data, loss_fn, \"val\")\n",
        "        history[\"loss\"].append(loss)\n",
        "        history[\"acc\"].append(acc)\n",
        "        history[\"val_loss\"].append(val_loss)\n",
        "        history[\"val_acc\"].append(val_acc)\n",
        "        # The official implementation in TensorFlow is a little different from what is described in the paper...\n",
        "        if epoch > early_stopping and val_loss > np.mean(history[\"val_loss\"][-(early_stopping + 1) : -1]):\n",
        "            if verbose:\n",
        "                print(\"\\nEarly stopping...\")\n",
        "\n",
        "            break\n",
        "\n",
        "        if verbose and epoch % print_interval == 0:\n",
        "            print(f\"\\nEpoch: {epoch}\\n----------\")\n",
        "            print(f\"Train loss: {loss:.4f} | Train acc: {acc:.4f}\")\n",
        "            print(f\"  Val loss: {val_loss:.4f} |   Val acc: {val_acc:.4f}\")\n",
        "\n",
        "    test_loss, test_acc = eval_step(model, data, loss_fn, \"test\")\n",
        "    if verbose:\n",
        "        print(f\"\\nEpoch: {epoch}\\n----------\")\n",
        "        print(f\"Train loss: {loss:.4f} | Train acc: {acc:.4f}\")\n",
        "        print(f\"  Val loss: {val_loss:.4f} |   Val acc: {val_acc:.4f}\")\n",
        "        print(f\" Test loss: {test_loss:.4f} |  Test acc: {test_acc:.4f}\")\n",
        "\n",
        "    return history\n",
        "def plot_history(history: HistoryDict, title: str, font_size: Optional[int] = 14) -> None:\n",
        "    plt.suptitle(title, fontsize=font_size)\n",
        "    ax1 = plt.subplot(121)\n",
        "    ax1.set_title(\"Loss\")\n",
        "    ax1.plot(history[\"loss\"], label=\"train\")\n",
        "    ax1.plot(history[\"val_loss\"], label=\"val\")\n",
        "    plt.xlabel(\"Epoch\")\n",
        "    ax1.legend()\n",
        "\n",
        "    ax2 = plt.subplot(122)\n",
        "    ax2.set_title(\"Accuracy\")\n",
        "    ax2.plot(history[\"acc\"], label=\"train\")\n",
        "    ax2.plot(history[\"val_acc\"], label=\"val\")\n",
        "    plt.xlabel(\"Epoch\")\n",
        "    ax2.legend()"
      ],
      "metadata": {
        "id": "ftWUxhsTHgLb"
      },
      "execution_count": null,
      "outputs": []
    },
    {
      "cell_type": "code",
      "source": [
        "SEED = 42\n",
        "MAX_EPOCHS = 200\n",
        "LEARNING_RATE = 0.01\n",
        "WEIGHT_DECAY = 5e-4\n",
        "EARLY_STOPPING = 10\n",
        "\n",
        "torch.manual_seed(SEED)\n",
        "device = torch.device(\"cuda\" if torch.cuda.is_available() else \"cpu\")\n",
        "\n",
        "model = GCN(dataset.num_node_features, dataset.num_classes).to(device)\n",
        "data = dataset[0].to(device)\n",
        "optimizer = torch.optim.Adam(model.parameters(), lr=LEARNING_RATE, weight_decay=WEIGHT_DECAY)\n",
        "history = train(model, data, optimizer, max_epochs=MAX_EPOCHS, early_stopping=EARLY_STOPPING)"
      ],
      "metadata": {
        "colab": {
          "base_uri": "https://localhost:8080/"
        },
        "id": "mN7pfXbiHmGL",
        "outputId": "7950b82b-486a-48b5-be0f-aa05ba8081e3"
      },
      "execution_count": null,
      "outputs": [
        {
          "output_type": "stream",
          "name": "stdout",
          "text": [
            "\n",
            "Epoch: 0\n",
            "----------\n",
            "Train loss: 1.9452 | Train acc: 0.1286\n",
            "  Val loss: 1.9455 |   Val acc: 0.0960\n",
            "\n",
            "Epoch: 20\n",
            "----------\n",
            "Train loss: 1.7186 | Train acc: 0.6714\n",
            "  Val loss: 1.8134 |   Val acc: 0.5060\n",
            "\n",
            "Epoch: 40\n",
            "----------\n",
            "Train loss: 1.3818 | Train acc: 0.8214\n",
            "  Val loss: 1.6027 |   Val acc: 0.6760\n",
            "\n",
            "Epoch: 60\n",
            "----------\n",
            "Train loss: 1.0128 | Train acc: 0.8571\n",
            "  Val loss: 1.3510 |   Val acc: 0.7580\n",
            "\n",
            "Epoch: 80\n",
            "----------\n",
            "Train loss: 0.7533 | Train acc: 0.9143\n",
            "  Val loss: 1.1628 |   Val acc: 0.7820\n",
            "\n",
            "Epoch: 100\n",
            "----------\n",
            "Train loss: 0.6314 | Train acc: 0.9500\n",
            "  Val loss: 1.0473 |   Val acc: 0.7820\n",
            "\n",
            "Epoch: 120\n",
            "----------\n",
            "Train loss: 0.5400 | Train acc: 0.9286\n",
            "  Val loss: 0.9642 |   Val acc: 0.7800\n",
            "\n",
            "Epoch: 140\n",
            "----------\n",
            "Train loss: 0.5068 | Train acc: 0.9214\n",
            "  Val loss: 0.9254 |   Val acc: 0.7800\n",
            "\n",
            "Early stopping...\n",
            "\n",
            "Epoch: 141\n",
            "----------\n",
            "Train loss: 0.5412 | Train acc: 0.9286\n",
            "  Val loss: 0.9303 |   Val acc: 0.7740\n",
            " Test loss: 0.9081 |  Test acc: 0.7960\n"
          ]
        }
      ]
    },
    {
      "cell_type": "code",
      "source": [
        "plt.figure(figsize=(12, 4))\n",
        "plot_history(history, \"GCN\")"
      ],
      "metadata": {
        "colab": {
          "base_uri": "https://localhost:8080/",
          "height": 308
        },
        "id": "_p5yVD0yHoZf",
        "outputId": "640dc364-ecdc-49de-c2ee-e5e869b84fa8"
      },
      "execution_count": null,
      "outputs": [
        {
          "output_type": "display_data",
          "data": {
            "text/plain": [
              "<Figure size 864x288 with 2 Axes>"
            ],
            "image/png": "[encoded data removed]"
          },
          "metadata": {
            "needs_background": "light"
          }
        }
      ]
    },
    {
      "cell_type": "code",
      "source": [
        "########################################### PART 2 ##################################"
      ],
      "metadata": {
        "colab": {
          "base_uri": "https://localhost:8080/"
        },
        "id": "bmicn9NAIDuQ",
        "outputId": "de418466-b81b-443b-c479-dadc34fd7072"
      },
      "execution_count": null,
      "outputs": [
        {
          "output_type": "stream",
          "name": "stdout",
          "text": [
            "Sum of row values without normalization: tensor([ 9., 23., 19.,  ..., 18., 14., 13.])\n",
            "Sum of row values with normalization: tensor([1.0000, 1.0000, 1.0000,  ..., 1.0000, 1.0000, 1.0000])\n"
          ]
        }
      ]
    },
    {
      "cell_type": "code",
      "source": [
        "LR=0.001\n",
        "HC=8\n",
        "NC=3\n",
        "from torch_geometric.nn import SAGEConv\n",
        "device = torch.device('cuda' if torch.cuda.is_available() else 'cpu')\n",
        "data = dataset[0].to(device, 'x', 'y')\n",
        "class SAGE(torch.nn.Module):\n",
        "    def __init__(self, in_channels, hidden_channels, out_channels):\n",
        "        super().__init__()\n",
        "        self.convs = torch.nn.ModuleList()\n",
        "        self.convs.append(SAGEConv(in_channels, hidden_channels))\n",
        "        for i in range(NC-2):\n",
        "            self.convs.append(SAGEConv(hidden_channels, hidden_channels))\n",
        "        self.convs.append(SAGEConv(hidden_channels, out_channels))\n",
        "\n",
        "    def forward(self, x, edge_index):\n",
        "        for i, conv in enumerate(self.convs):\n",
        "            x = conv(x, edge_index)\n",
        "            if i < len(self.convs) - 1:\n",
        "                x = x.relu_()\n",
        "                x = F.dropout(x, p=0.5, training=self.training)\n",
        "            if i < len(self.convs) - 1 and i>0:\n",
        "                x = conv(x, edge_index)\n",
        "                x = x.relu_()\n",
        "                x = F.dropout(x, p=0.5, training=self.training)\n",
        "        return x\n",
        "\n",
        "    @torch.no_grad()\n",
        "    def inference(self, x_all, subgraph_loader):\n",
        "        print(\"testtest\")\n",
        "        pbar = tqdm(total=len(subgraph_loader.dataset) * len(self.convs))\n",
        "        pbar.set_description('Evaluating')\n",
        "\n",
        "        # Compute representations of nodes layer by layer, using *all*\n",
        "        # available edges. This leads to faster computation in contrast to\n",
        "        # immediately computing the final representations of each batch:\n",
        "        for i, conv in enumerate(self.convs):\n",
        "            xs = []\n",
        "            for batch in subgraph_loader:\n",
        "                x = x_all[batch.n_id.to(x_all.device)].to(device)\n",
        "                x = conv(x, batch.edge_index.to(device))\n",
        "                if i < len(self.convs) - 1:\n",
        "                    x = x.relu_()\n",
        "                xs.append(x[:batch.batch_size].cpu())\n",
        "                pbar.update(batch.batch_size)\n",
        "            x_all = torch.cat(xs, dim=0)\n",
        "            if i < len(self.convs) - 1 and i>0:\n",
        "                xs = []\n",
        "                for batch in subgraph_loader:\n",
        "                    x = x_all[batch.n_id.to(x_all.device)].to(device)\n",
        "                    x = conv(x, batch.edge_index.to(device))\n",
        "                    x = x.relu_()\n",
        "                    xs.append(x[:batch.batch_size].cpu())\n",
        "                x_all = torch.cat(xs, dim=0)\n",
        "        pbar.close()\n",
        "        return x_all\n",
        "    \n",
        "model = SAGE(dataset.num_features, HC, dataset.num_classes).to(device)\n",
        "optimizer = torch.optim.Adam(model.parameters(), lr=LR)\n",
        "\n",
        "def train(epoch):\n",
        "    model.train()\n",
        "\n",
        "    pbar = tqdm(total=int(len(train_loader.dataset)))\n",
        "    pbar.set_description(f'Epoch {epoch:02d}')\n",
        "\n",
        "    total_loss = total_correct = total_examples = 0\n",
        "    for batch in train_loader:\n",
        "        optimizer.zero_grad()\n",
        "        y = batch.y[:batch.batch_size]\n",
        "        y_hat = model(batch.x, batch.edge_index.to(device))[:batch.batch_size]\n",
        "        loss = F.cross_entropy(y_hat, y)\n",
        "        loss.backward()\n",
        "        optimizer.step()\n",
        "\n",
        "        total_loss += float(loss) * batch.batch_size\n",
        "        total_correct += int((y_hat.argmax(dim=-1) == y).sum())\n",
        "        total_examples += batch.batch_size\n",
        "        pbar.update(batch.batch_size)\n",
        "    \n",
        "    pbar.close()\n",
        "\n",
        "    return total_loss / total_examples, total_correct / total_examples\n",
        "@torch.no_grad()\n",
        "def test():\n",
        "    model.eval()\n",
        "    y_hat = model.inference(data.x, subgraph_loader).argmax(dim=-1)\n",
        "    y = data.y.to(y_hat.device)\n",
        "\n",
        "    accs = []\n",
        "    for mask in [data.train_mask, data.val_mask, data.test_mask]:\n",
        "        accs.append(int((y_hat[mask] == y[mask]).sum()) / int(mask.sum()))\n",
        "    return accs"
      ],
      "metadata": {
        "id": "D2Mrbf5YIIpy"
      },
      "execution_count": null,
      "outputs": []
    },
    {
      "cell_type": "code",
      "source": [
        "#print(torch.cuda.memory_summary())"
      ],
      "metadata": {
        "id": "YfwvAVdwNeV1"
      },
      "execution_count": null,
      "outputs": []
    },
    {
      "cell_type": "code",
      "source": [
        "BS=2048\n",
        "kwargs = {'batch_size': BS, 'num_workers': 6, 'persistent_workers': True}\n",
        "import copy\n",
        "from tqdm import tqdm\n",
        "from torch_geometric.loader import NeighborLoader\n",
        "train_loader = NeighborLoader(data, input_nodes=data.train_mask,\n",
        "                              num_neighbors=[25, 10], shuffle=True, **kwargs)\n",
        "subgraph_loader = NeighborLoader(copy.copy(data), input_nodes=None,\n",
        "                                 num_neighbors=[-1], shuffle=False, **kwargs)\n",
        "\n",
        "# No need to maintain these features during evaluation:\n",
        "del subgraph_loader.data.x, subgraph_loader.data.y\n",
        "# Add global node index information.\n",
        "subgraph_loader.data.num_nodes = data.num_nodes\n",
        "subgraph_loader.data.n_id = torch.arange(data.num_nodes)\n",
        "# Already send node features/labels to GPU for faster access during sampling:\n",
        "\n",
        "for epoch in range(1, 50):\n",
        "    loss, acc = train(epoch)\n",
        "    print(f'Epoch {epoch:02d}, Loss: {loss:.4f}, Approx. Train: {acc:.4f}')\n",
        "train_acc, val_acc, test_acc = test()\n",
        "print(f'Epoch: {epoch:02d}, Train: {train_acc:.4f}, Val: {val_acc:.4f}, '\n",
        "      f'Test: {test_acc:.4f}')"
      ],
      "metadata": {
        "colab": {
          "base_uri": "https://localhost:8080/"
        },
        "id": "Ome1iYSqNnJd",
        "outputId": "ccb28b37-73d6-45a7-a569-71fe0f5d32cd"
      },
      "execution_count": null,
      "outputs": [
        {
          "output_type": "stream",
          "name": "stderr",
          "text": [
            "/usr/local/lib/python3.7/dist-packages/torch/utils/data/dataloader.py:490: UserWarning: This DataLoader will create 6 worker processes in total. Our suggested max number of worker in current system is 2, which is smaller than what this DataLoader is going to create. Please be aware that excessive worker creation might get DataLoader running slow or even freeze, lower the worker number to avoid potential slowness/freeze if necessary.\n",
            "  cpuset_checked))\n",
            "\n",
            "  0%|          | 0/140 [00:00<?, ?it/s]\u001b[A\n",
            "Epoch 01:   0%|          | 0/140 [00:00<?, ?it/s]\u001b[A\n",
            "Epoch 01: 100%|██████████| 140/140 [00:00<00:00, 676.04it/s]\n"
          ]
        },
        {
          "output_type": "stream",
          "name": "stdout",
          "text": [
            "Epoch 01, Loss: 1.9267, Approx. Train: 0.1929\n"
          ]
        },
        {
          "output_type": "stream",
          "name": "stderr",
          "text": [
            "\n",
            "  0%|          | 0/140 [00:00<?, ?it/s]\u001b[A\n",
            "Epoch 02: 100%|██████████| 140/140 [00:00<00:00, 1932.46it/s]\n"
          ]
        },
        {
          "output_type": "stream",
          "name": "stdout",
          "text": [
            "Epoch 02, Loss: 1.9018, Approx. Train: 0.1786\n"
          ]
        },
        {
          "output_type": "stream",
          "name": "stderr",
          "text": [
            "\n",
            "  0%|          | 0/140 [00:00<?, ?it/s]\u001b[A\n",
            "Epoch 03: 100%|██████████| 140/140 [00:00<00:00, 2532.52it/s]\n"
          ]
        },
        {
          "output_type": "stream",
          "name": "stdout",
          "text": [
            "Epoch 03, Loss: 1.9404, Approx. Train: 0.1643\n"
          ]
        },
        {
          "output_type": "stream",
          "name": "stderr",
          "text": [
            "\n",
            "  0%|          | 0/140 [00:00<?, ?it/s]\u001b[A\n",
            "Epoch 04: 100%|██████████| 140/140 [00:00<00:00, 2577.03it/s]\n"
          ]
        },
        {
          "output_type": "stream",
          "name": "stdout",
          "text": [
            "Epoch 04, Loss: 1.9162, Approx. Train: 0.2429\n"
          ]
        },
        {
          "output_type": "stream",
          "name": "stderr",
          "text": [
            "\n",
            "  0%|          | 0/140 [00:00<?, ?it/s]\u001b[A\n",
            "Epoch 05: 100%|██████████| 140/140 [00:00<00:00, 2409.00it/s]\n"
          ]
        },
        {
          "output_type": "stream",
          "name": "stdout",
          "text": [
            "Epoch 05, Loss: 1.9200, Approx. Train: 0.2000\n"
          ]
        },
        {
          "output_type": "stream",
          "name": "stderr",
          "text": [
            "\n",
            "  0%|          | 0/140 [00:00<?, ?it/s]\u001b[A\n",
            "Epoch 06: 100%|██████████| 140/140 [00:00<00:00, 2894.06it/s]\n"
          ]
        },
        {
          "output_type": "stream",
          "name": "stdout",
          "text": [
            "Epoch 06, Loss: 1.9051, Approx. Train: 0.2286\n"
          ]
        },
        {
          "output_type": "stream",
          "name": "stderr",
          "text": [
            "\n",
            "  0%|          | 0/140 [00:00<?, ?it/s]\u001b[A\n",
            "Epoch 07: 100%|██████████| 140/140 [00:00<00:00, 2709.67it/s]\n"
          ]
        },
        {
          "output_type": "stream",
          "name": "stdout",
          "text": [
            "Epoch 07, Loss: 1.9340, Approx. Train: 0.1786\n"
          ]
        },
        {
          "output_type": "stream",
          "name": "stderr",
          "text": [
            "\n",
            "  0%|          | 0/140 [00:00<?, ?it/s]\u001b[A\n",
            "Epoch 08: 100%|██████████| 140/140 [00:00<00:00, 2857.84it/s]\n"
          ]
        },
        {
          "output_type": "stream",
          "name": "stdout",
          "text": [
            "Epoch 08, Loss: 1.9091, Approx. Train: 0.2143\n"
          ]
        },
        {
          "output_type": "stream",
          "name": "stderr",
          "text": [
            "\n",
            "  0%|          | 0/140 [00:00<?, ?it/s]\u001b[A\n",
            "Epoch 09: 100%|██████████| 140/140 [00:00<00:00, 2678.68it/s]\n"
          ]
        },
        {
          "output_type": "stream",
          "name": "stdout",
          "text": [
            "Epoch 09, Loss: 1.9181, Approx. Train: 0.1786\n"
          ]
        },
        {
          "output_type": "stream",
          "name": "stderr",
          "text": [
            "\n",
            "  0%|          | 0/140 [00:00<?, ?it/s]\u001b[A\n",
            "Epoch 10: 100%|██████████| 140/140 [00:00<00:00, 2135.92it/s]\n"
          ]
        },
        {
          "output_type": "stream",
          "name": "stdout",
          "text": [
            "Epoch 10, Loss: 1.9219, Approx. Train: 0.1714\n"
          ]
        },
        {
          "output_type": "stream",
          "name": "stderr",
          "text": [
            "\n",
            "  0%|          | 0/140 [00:00<?, ?it/s]\u001b[A\n",
            "Epoch 11: 100%|██████████| 140/140 [00:00<00:00, 1966.79it/s]\n"
          ]
        },
        {
          "output_type": "stream",
          "name": "stdout",
          "text": [
            "Epoch 11, Loss: 1.9355, Approx. Train: 0.1500\n"
          ]
        },
        {
          "output_type": "stream",
          "name": "stderr",
          "text": [
            "\n",
            "  0%|          | 0/140 [00:00<?, ?it/s]\u001b[A\n",
            "Epoch 12: 100%|██████████| 140/140 [00:00<00:00, 2469.49it/s]\n"
          ]
        },
        {
          "output_type": "stream",
          "name": "stdout",
          "text": [
            "Epoch 12, Loss: 1.9166, Approx. Train: 0.2143\n"
          ]
        },
        {
          "output_type": "stream",
          "name": "stderr",
          "text": [
            "\n",
            "  0%|          | 0/140 [00:00<?, ?it/s]\u001b[A\n",
            "Epoch 13: 100%|██████████| 140/140 [00:00<00:00, 2459.38it/s]\n"
          ]
        },
        {
          "output_type": "stream",
          "name": "stdout",
          "text": [
            "Epoch 13, Loss: 1.9205, Approx. Train: 0.2143\n"
          ]
        },
        {
          "output_type": "stream",
          "name": "stderr",
          "text": [
            "\n",
            "  0%|          | 0/140 [00:00<?, ?it/s]\u001b[A\n",
            "Epoch 14: 100%|██████████| 140/140 [00:00<00:00, 2101.81it/s]\n"
          ]
        },
        {
          "output_type": "stream",
          "name": "stdout",
          "text": [
            "Epoch 14, Loss: 1.9040, Approx. Train: 0.2143\n"
          ]
        },
        {
          "output_type": "stream",
          "name": "stderr",
          "text": [
            "\n",
            "  0%|          | 0/140 [00:00<?, ?it/s]\u001b[A\n",
            "Epoch 15: 100%|██████████| 140/140 [00:00<00:00, 2544.22it/s]\n"
          ]
        },
        {
          "output_type": "stream",
          "name": "stdout",
          "text": [
            "Epoch 15, Loss: 1.9088, Approx. Train: 0.2214\n"
          ]
        },
        {
          "output_type": "stream",
          "name": "stderr",
          "text": [
            "\n",
            "  0%|          | 0/140 [00:00<?, ?it/s]\u001b[A\n",
            "Epoch 16: 100%|██████████| 140/140 [00:00<00:00, 2521.45it/s]\n"
          ]
        },
        {
          "output_type": "stream",
          "name": "stdout",
          "text": [
            "Epoch 16, Loss: 1.9172, Approx. Train: 0.2000\n"
          ]
        },
        {
          "output_type": "stream",
          "name": "stderr",
          "text": [
            "\n",
            "  0%|          | 0/140 [00:00<?, ?it/s]\u001b[A\n",
            "Epoch 17: 100%|██████████| 140/140 [00:00<00:00, 2795.39it/s]\n"
          ]
        },
        {
          "output_type": "stream",
          "name": "stdout",
          "text": [
            "Epoch 17, Loss: 1.9179, Approx. Train: 0.1857\n"
          ]
        },
        {
          "output_type": "stream",
          "name": "stderr",
          "text": [
            "\n",
            "  0%|          | 0/140 [00:00<?, ?it/s]\u001b[A\n",
            "Epoch 18: 100%|██████████| 140/140 [00:00<00:00, 2833.21it/s]\n"
          ]
        },
        {
          "output_type": "stream",
          "name": "stdout",
          "text": [
            "Epoch 18, Loss: 1.8929, Approx. Train: 0.2071\n"
          ]
        },
        {
          "output_type": "stream",
          "name": "stderr",
          "text": [
            "\n",
            "  0%|          | 0/140 [00:00<?, ?it/s]\u001b[A\n",
            "Epoch 19: 100%|██████████| 140/140 [00:00<00:00, 2895.78it/s]\n"
          ]
        },
        {
          "output_type": "stream",
          "name": "stdout",
          "text": [
            "Epoch 19, Loss: 1.8999, Approx. Train: 0.2214\n"
          ]
        },
        {
          "output_type": "stream",
          "name": "stderr",
          "text": [
            "\n",
            "  0%|          | 0/140 [00:00<?, ?it/s]\u001b[A\n",
            "Epoch 20: 100%|██████████| 140/140 [00:00<00:00, 2959.41it/s]\n"
          ]
        },
        {
          "output_type": "stream",
          "name": "stdout",
          "text": [
            "Epoch 20, Loss: 1.9071, Approx. Train: 0.2286\n"
          ]
        },
        {
          "output_type": "stream",
          "name": "stderr",
          "text": [
            "\n",
            "  0%|          | 0/140 [00:00<?, ?it/s]\u001b[A\n",
            "Epoch 21: 100%|██████████| 140/140 [00:00<00:00, 2351.42it/s]\n"
          ]
        },
        {
          "output_type": "stream",
          "name": "stdout",
          "text": [
            "Epoch 21, Loss: 1.8975, Approx. Train: 0.2286\n"
          ]
        },
        {
          "output_type": "stream",
          "name": "stderr",
          "text": [
            "\n",
            "  0%|          | 0/140 [00:00<?, ?it/s]\u001b[A\n",
            "Epoch 22: 100%|██████████| 140/140 [00:00<00:00, 2683.56it/s]\n"
          ]
        },
        {
          "output_type": "stream",
          "name": "stdout",
          "text": [
            "Epoch 22, Loss: 1.9044, Approx. Train: 0.1929\n"
          ]
        },
        {
          "output_type": "stream",
          "name": "stderr",
          "text": [
            "\n",
            "  0%|          | 0/140 [00:00<?, ?it/s]\u001b[A\n",
            "Epoch 23: 100%|██████████| 140/140 [00:00<00:00, 2281.82it/s]\n"
          ]
        },
        {
          "output_type": "stream",
          "name": "stdout",
          "text": [
            "Epoch 23, Loss: 1.9100, Approx. Train: 0.2643\n"
          ]
        },
        {
          "output_type": "stream",
          "name": "stderr",
          "text": [
            "\n",
            "  0%|          | 0/140 [00:00<?, ?it/s]\u001b[A\n",
            "Epoch 24: 100%|██████████| 140/140 [00:00<00:00, 2611.05it/s]\n"
          ]
        },
        {
          "output_type": "stream",
          "name": "stdout",
          "text": [
            "Epoch 24, Loss: 1.8990, Approx. Train: 0.2000\n"
          ]
        },
        {
          "output_type": "stream",
          "name": "stderr",
          "text": [
            "\n",
            "  0%|          | 0/140 [00:00<?, ?it/s]\u001b[A\n",
            "Epoch 25: 100%|██████████| 140/140 [00:00<00:00, 2744.55it/s]\n"
          ]
        },
        {
          "output_type": "stream",
          "name": "stdout",
          "text": [
            "Epoch 25, Loss: 1.8936, Approx. Train: 0.2000\n"
          ]
        },
        {
          "output_type": "stream",
          "name": "stderr",
          "text": [
            "\n",
            "  0%|          | 0/140 [00:00<?, ?it/s]\u001b[A\n",
            "Epoch 26: 100%|██████████| 140/140 [00:00<00:00, 2583.81it/s]\n"
          ]
        },
        {
          "output_type": "stream",
          "name": "stdout",
          "text": [
            "Epoch 26, Loss: 1.8883, Approx. Train: 0.2357\n"
          ]
        },
        {
          "output_type": "stream",
          "name": "stderr",
          "text": [
            "\n",
            "  0%|          | 0/140 [00:00<?, ?it/s]\u001b[A\n",
            "Epoch 27: 100%|██████████| 140/140 [00:00<00:00, 2783.85it/s]\n"
          ]
        },
        {
          "output_type": "stream",
          "name": "stdout",
          "text": [
            "Epoch 27, Loss: 1.8677, Approx. Train: 0.2786\n"
          ]
        },
        {
          "output_type": "stream",
          "name": "stderr",
          "text": [
            "\n",
            "  0%|          | 0/140 [00:00<?, ?it/s]\u001b[A\n",
            "Epoch 28: 100%|██████████| 140/140 [00:00<00:00, 2674.51it/s]\n"
          ]
        },
        {
          "output_type": "stream",
          "name": "stdout",
          "text": [
            "Epoch 28, Loss: 1.8769, Approx. Train: 0.2214\n"
          ]
        },
        {
          "output_type": "stream",
          "name": "stderr",
          "text": [
            "\n",
            "  0%|          | 0/140 [00:00<?, ?it/s]\u001b[A\n",
            "Epoch 29: 100%|██████████| 140/140 [00:00<00:00, 2740.90it/s]\n"
          ]
        },
        {
          "output_type": "stream",
          "name": "stdout",
          "text": [
            "Epoch 29, Loss: 1.8622, Approx. Train: 0.2643\n"
          ]
        },
        {
          "output_type": "stream",
          "name": "stderr",
          "text": [
            "\n",
            "  0%|          | 0/140 [00:00<?, ?it/s]\u001b[A\n",
            "Epoch 30: 100%|██████████| 140/140 [00:00<00:00, 2493.15it/s]\n"
          ]
        },
        {
          "output_type": "stream",
          "name": "stdout",
          "text": [
            "Epoch 30, Loss: 1.9017, Approx. Train: 0.2071\n"
          ]
        },
        {
          "output_type": "stream",
          "name": "stderr",
          "text": [
            "\n",
            "  0%|          | 0/140 [00:00<?, ?it/s]\u001b[A\n",
            "Epoch 31: 100%|██████████| 140/140 [00:00<00:00, 2667.91it/s]\n"
          ]
        },
        {
          "output_type": "stream",
          "name": "stdout",
          "text": [
            "Epoch 31, Loss: 1.8572, Approx. Train: 0.3000\n"
          ]
        },
        {
          "output_type": "stream",
          "name": "stderr",
          "text": [
            "\n",
            "  0%|          | 0/140 [00:00<?, ?it/s]\u001b[A\n",
            "Epoch 32: 100%|██████████| 140/140 [00:00<00:00, 2826.04it/s]\n"
          ]
        },
        {
          "output_type": "stream",
          "name": "stdout",
          "text": [
            "Epoch 32, Loss: 1.8780, Approx. Train: 0.2286\n"
          ]
        },
        {
          "output_type": "stream",
          "name": "stderr",
          "text": [
            "\n",
            "  0%|          | 0/140 [00:00<?, ?it/s]\u001b[A\n",
            "Epoch 33: 100%|██████████| 140/140 [00:00<00:00, 2532.46it/s]\n"
          ]
        },
        {
          "output_type": "stream",
          "name": "stdout",
          "text": [
            "Epoch 33, Loss: 1.8720, Approx. Train: 0.2929\n"
          ]
        },
        {
          "output_type": "stream",
          "name": "stderr",
          "text": [
            "\n",
            "  0%|          | 0/140 [00:00<?, ?it/s]\u001b[A\n",
            "Epoch 34: 100%|██████████| 140/140 [00:00<00:00, 2721.97it/s]\n"
          ]
        },
        {
          "output_type": "stream",
          "name": "stdout",
          "text": [
            "Epoch 34, Loss: 1.8828, Approx. Train: 0.2357\n"
          ]
        },
        {
          "output_type": "stream",
          "name": "stderr",
          "text": [
            "\n",
            "  0%|          | 0/140 [00:00<?, ?it/s]\u001b[A\n",
            "Epoch 35: 100%|██████████| 140/140 [00:00<00:00, 2638.71it/s]\n"
          ]
        },
        {
          "output_type": "stream",
          "name": "stdout",
          "text": [
            "Epoch 35, Loss: 1.8861, Approx. Train: 0.2286\n"
          ]
        },
        {
          "output_type": "stream",
          "name": "stderr",
          "text": [
            "\n",
            "  0%|          | 0/140 [00:00<?, ?it/s]\u001b[A\n",
            "Epoch 36: 100%|██████████| 140/140 [00:00<00:00, 2653.76it/s]\n"
          ]
        },
        {
          "output_type": "stream",
          "name": "stdout",
          "text": [
            "Epoch 36, Loss: 1.8731, Approx. Train: 0.2000\n"
          ]
        },
        {
          "output_type": "stream",
          "name": "stderr",
          "text": [
            "\n",
            "  0%|          | 0/140 [00:00<?, ?it/s]\u001b[A\n",
            "Epoch 37: 100%|██████████| 140/140 [00:00<00:00, 2639.43it/s]\n"
          ]
        },
        {
          "output_type": "stream",
          "name": "stdout",
          "text": [
            "Epoch 37, Loss: 1.8804, Approx. Train: 0.2000\n"
          ]
        },
        {
          "output_type": "stream",
          "name": "stderr",
          "text": [
            "\n",
            "  0%|          | 0/140 [00:00<?, ?it/s]\u001b[A\n",
            "Epoch 38: 100%|██████████| 140/140 [00:00<00:00, 2403.06it/s]\n"
          ]
        },
        {
          "output_type": "stream",
          "name": "stdout",
          "text": [
            "Epoch 38, Loss: 1.8693, Approx. Train: 0.2786\n"
          ]
        },
        {
          "output_type": "stream",
          "name": "stderr",
          "text": [
            "\n",
            "  0%|          | 0/140 [00:00<?, ?it/s]\u001b[A\n",
            "Epoch 39: 100%|██████████| 140/140 [00:00<00:00, 2321.81it/s]\n"
          ]
        },
        {
          "output_type": "stream",
          "name": "stdout",
          "text": [
            "Epoch 39, Loss: 1.8668, Approx. Train: 0.2286\n"
          ]
        },
        {
          "output_type": "stream",
          "name": "stderr",
          "text": [
            "\n",
            "  0%|          | 0/140 [00:00<?, ?it/s]\u001b[A\n",
            "Epoch 40: 100%|██████████| 140/140 [00:00<00:00, 2455.48it/s]\n"
          ]
        },
        {
          "output_type": "stream",
          "name": "stdout",
          "text": [
            "Epoch 40, Loss: 1.8823, Approx. Train: 0.2500\n"
          ]
        },
        {
          "output_type": "stream",
          "name": "stderr",
          "text": [
            "\n",
            "  0%|          | 0/140 [00:00<?, ?it/s]\u001b[A\n",
            "Epoch 41: 100%|██████████| 140/140 [00:00<00:00, 2054.24it/s]\n"
          ]
        },
        {
          "output_type": "stream",
          "name": "stdout",
          "text": [
            "Epoch 41, Loss: 1.8543, Approx. Train: 0.2929\n"
          ]
        },
        {
          "output_type": "stream",
          "name": "stderr",
          "text": [
            "\n",
            "  0%|          | 0/140 [00:00<?, ?it/s]\u001b[A\n",
            "Epoch 42: 100%|██████████| 140/140 [00:00<00:00, 2818.12it/s]\n"
          ]
        },
        {
          "output_type": "stream",
          "name": "stdout",
          "text": [
            "Epoch 42, Loss: 1.8801, Approx. Train: 0.1786\n"
          ]
        },
        {
          "output_type": "stream",
          "name": "stderr",
          "text": [
            "\n",
            "  0%|          | 0/140 [00:00<?, ?it/s]\u001b[A\n",
            "Epoch 43: 100%|██████████| 140/140 [00:00<00:00, 2526.49it/s]\n"
          ]
        },
        {
          "output_type": "stream",
          "name": "stdout",
          "text": [
            "Epoch 43, Loss: 1.8676, Approx. Train: 0.2286\n"
          ]
        },
        {
          "output_type": "stream",
          "name": "stderr",
          "text": [
            "\n",
            "  0%|          | 0/140 [00:00<?, ?it/s]\u001b[A\n",
            "Epoch 44: 100%|██████████| 140/140 [00:00<00:00, 2033.24it/s]\n"
          ]
        },
        {
          "output_type": "stream",
          "name": "stdout",
          "text": [
            "Epoch 44, Loss: 1.8743, Approx. Train: 0.2357\n"
          ]
        },
        {
          "output_type": "stream",
          "name": "stderr",
          "text": [
            "\n",
            "  0%|          | 0/140 [00:00<?, ?it/s]\u001b[A\n",
            "Epoch 45: 100%|██████████| 140/140 [00:00<00:00, 2462.76it/s]\n"
          ]
        },
        {
          "output_type": "stream",
          "name": "stdout",
          "text": [
            "Epoch 45, Loss: 1.8576, Approx. Train: 0.2286\n"
          ]
        },
        {
          "output_type": "stream",
          "name": "stderr",
          "text": [
            "\n",
            "  0%|          | 0/140 [00:00<?, ?it/s]\u001b[A\n",
            "Epoch 46: 100%|██████████| 140/140 [00:00<00:00, 2668.22it/s]\n"
          ]
        },
        {
          "output_type": "stream",
          "name": "stdout",
          "text": [
            "Epoch 46, Loss: 1.8677, Approx. Train: 0.2571\n"
          ]
        },
        {
          "output_type": "stream",
          "name": "stderr",
          "text": [
            "\n",
            "  0%|          | 0/140 [00:00<?, ?it/s]\u001b[A\n",
            "Epoch 47: 100%|██████████| 140/140 [00:00<00:00, 2540.95it/s]\n"
          ]
        },
        {
          "output_type": "stream",
          "name": "stdout",
          "text": [
            "Epoch 47, Loss: 1.8647, Approx. Train: 0.2286\n"
          ]
        },
        {
          "output_type": "stream",
          "name": "stderr",
          "text": [
            "\n",
            "  0%|          | 0/140 [00:00<?, ?it/s]\u001b[A\n",
            "Epoch 48: 100%|██████████| 140/140 [00:00<00:00, 2640.39it/s]\n"
          ]
        },
        {
          "output_type": "stream",
          "name": "stdout",
          "text": [
            "Epoch 48, Loss: 1.8557, Approx. Train: 0.2143\n"
          ]
        },
        {
          "output_type": "stream",
          "name": "stderr",
          "text": [
            "\n",
            "  0%|          | 0/140 [00:00<?, ?it/s]\u001b[A\n",
            "Epoch 49: 100%|██████████| 140/140 [00:00<00:00, 2725.70it/s]\n"
          ]
        },
        {
          "output_type": "stream",
          "name": "stdout",
          "text": [
            "Epoch 49, Loss: 1.8276, Approx. Train: 0.2786\n",
            "testtest\n"
          ]
        },
        {
          "output_type": "stream",
          "name": "stderr",
          "text": [
            "\n",
            "  0%|          | 0/8124 [00:00<?, ?it/s]\u001b[A\n",
            "Evaluating:   0%|          | 0/8124 [00:00<?, ?it/s]\u001b[A\n",
            "Evaluating: 100%|██████████| 8124/8124 [00:00<00:00, 24471.48it/s]"
          ]
        },
        {
          "output_type": "stream",
          "name": "stdout",
          "text": [
            "Epoch: 49, Train: 0.3143, Val: 0.2480, Test: 0.2370\n"
          ]
        },
        {
          "output_type": "stream",
          "name": "stderr",
          "text": [
            "\n"
          ]
        }
      ]
    },
    {
      "cell_type": "code",
      "source": [
        "for i, conv in enumerate(model.convs):\n",
        "    print(conv)"
      ],
      "metadata": {
        "colab": {
          "base_uri": "https://localhost:8080/"
        },
        "id": "ipikbIuANrhB",
        "outputId": "3ebf6741-1132-4433-c846-00d1a0779335"
      },
      "execution_count": null,
      "outputs": [
        {
          "output_type": "stream",
          "name": "stdout",
          "text": [
            "SAGEConv(1433, 8)\n",
            "SAGEConv(8, 8)\n",
            "SAGEConv(8, 7)\n"
          ]
        }
      ]
    },
    {
      "cell_type": "code",
      "source": [
        ""
      ],
      "metadata": {
        "id": "B1IIaFcVOaYO"
      },
      "execution_count": null,
      "outputs": []
    }
  ]
}